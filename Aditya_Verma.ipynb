{
 "cells": [
  {
   "cell_type": "markdown",
   "metadata": {},
   "source": [
    "## Importing libraries"
   ]
  },
  {
   "cell_type": "code",
   "execution_count": 1,
   "metadata": {},
   "outputs": [],
   "source": [
    "import numpy as np\n",
    "import pandas as pd\n",
    "import matplotlib.pyplot as plt\n",
    "import seaborn as sns"
   ]
  },
  {
   "cell_type": "markdown",
   "metadata": {},
   "source": [
    "### Importing the dataset"
   ]
  },
  {
   "cell_type": "code",
   "execution_count": 2,
   "metadata": {},
   "outputs": [],
   "source": [
    "Original_dataset= pd.read_csv(\"Data_MFR_310.csv\")\n",
    "\n",
    "#Making a copy of original data\n",
    "data=Original_dataset"
   ]
  },
  {
   "cell_type": "code",
   "execution_count": 3,
   "metadata": {},
   "outputs": [
    {
     "data": {
      "text/html": [
       "<div>\n",
       "<style scoped>\n",
       "    .dataframe tbody tr th:only-of-type {\n",
       "        vertical-align: middle;\n",
       "    }\n",
       "\n",
       "    .dataframe tbody tr th {\n",
       "        vertical-align: top;\n",
       "    }\n",
       "\n",
       "    .dataframe thead th {\n",
       "        text-align: right;\n",
       "    }\n",
       "</style>\n",
       "<table border=\"1\" class=\"dataframe\">\n",
       "  <thead>\n",
       "    <tr style=\"text-align: right;\">\n",
       "      <th></th>\n",
       "      <th>Unnamed: 0</th>\n",
       "      <th>513FC31103.pv</th>\n",
       "      <th>513HC31114-5.mv</th>\n",
       "      <th>513PC31201.pv</th>\n",
       "      <th>513LC31202.pv</th>\n",
       "      <th>513FC31409.pv</th>\n",
       "      <th>513FC31114-5.pv</th>\n",
       "      <th>513TC31220.pv</th>\n",
       "      <th>MFR</th>\n",
       "    </tr>\n",
       "  </thead>\n",
       "  <tbody>\n",
       "    <tr>\n",
       "      <th>0</th>\n",
       "      <td>04-05-2018 19:45</td>\n",
       "      <td>24856.584</td>\n",
       "      <td>0.153</td>\n",
       "      <td>30.414835</td>\n",
       "      <td>79.657906</td>\n",
       "      <td>50850.578</td>\n",
       "      <td>0.163994</td>\n",
       "      <td>80.399605</td>\n",
       "      <td>3.4</td>\n",
       "    </tr>\n",
       "    <tr>\n",
       "      <th>1</th>\n",
       "      <td>04-05-2018 21:45</td>\n",
       "      <td>25537.250</td>\n",
       "      <td>0.153</td>\n",
       "      <td>30.527121</td>\n",
       "      <td>78.532608</td>\n",
       "      <td>42229.813</td>\n",
       "      <td>0.129739</td>\n",
       "      <td>78.861328</td>\n",
       "      <td>3.2</td>\n",
       "    </tr>\n",
       "    <tr>\n",
       "      <th>2</th>\n",
       "      <td>04-05-2018 23:45</td>\n",
       "      <td>25689.266</td>\n",
       "      <td>0.153</td>\n",
       "      <td>30.356180</td>\n",
       "      <td>78.842636</td>\n",
       "      <td>45335.852</td>\n",
       "      <td>0.150003</td>\n",
       "      <td>78.818115</td>\n",
       "      <td>3.2</td>\n",
       "    </tr>\n",
       "    <tr>\n",
       "      <th>3</th>\n",
       "      <td>04-06-2018 01:45</td>\n",
       "      <td>25098.754</td>\n",
       "      <td>0.153</td>\n",
       "      <td>30.894308</td>\n",
       "      <td>79.173500</td>\n",
       "      <td>43077.016</td>\n",
       "      <td>0.151543</td>\n",
       "      <td>79.022720</td>\n",
       "      <td>3.1</td>\n",
       "    </tr>\n",
       "    <tr>\n",
       "      <th>4</th>\n",
       "      <td>04-06-2018 03:45</td>\n",
       "      <td>24853.941</td>\n",
       "      <td>0.150</td>\n",
       "      <td>30.680647</td>\n",
       "      <td>78.677299</td>\n",
       "      <td>40404.387</td>\n",
       "      <td>0.122582</td>\n",
       "      <td>79.038483</td>\n",
       "      <td>3.3</td>\n",
       "    </tr>\n",
       "  </tbody>\n",
       "</table>\n",
       "</div>"
      ],
      "text/plain": [
       "         Unnamed: 0  513FC31103.pv  513HC31114-5.mv  513PC31201.pv  \\\n",
       "0  04-05-2018 19:45      24856.584            0.153      30.414835   \n",
       "1  04-05-2018 21:45      25537.250            0.153      30.527121   \n",
       "2  04-05-2018 23:45      25689.266            0.153      30.356180   \n",
       "3  04-06-2018 01:45      25098.754            0.153      30.894308   \n",
       "4  04-06-2018 03:45      24853.941            0.150      30.680647   \n",
       "\n",
       "   513LC31202.pv  513FC31409.pv  513FC31114-5.pv  513TC31220.pv  MFR  \n",
       "0      79.657906      50850.578         0.163994      80.399605  3.4  \n",
       "1      78.532608      42229.813         0.129739      78.861328  3.2  \n",
       "2      78.842636      45335.852         0.150003      78.818115  3.2  \n",
       "3      79.173500      43077.016         0.151543      79.022720  3.1  \n",
       "4      78.677299      40404.387         0.122582      79.038483  3.3  "
      ]
     },
     "execution_count": 3,
     "metadata": {},
     "output_type": "execute_result"
    }
   ],
   "source": [
    "data.head()"
   ]
  },
  {
   "cell_type": "code",
   "execution_count": 4,
   "metadata": {},
   "outputs": [
    {
     "data": {
      "text/html": [
       "<div>\n",
       "<style scoped>\n",
       "    .dataframe tbody tr th:only-of-type {\n",
       "        vertical-align: middle;\n",
       "    }\n",
       "\n",
       "    .dataframe tbody tr th {\n",
       "        vertical-align: top;\n",
       "    }\n",
       "\n",
       "    .dataframe thead th {\n",
       "        text-align: right;\n",
       "    }\n",
       "</style>\n",
       "<table border=\"1\" class=\"dataframe\">\n",
       "  <thead>\n",
       "    <tr style=\"text-align: right;\">\n",
       "      <th></th>\n",
       "      <th>513FC31103.pv</th>\n",
       "      <th>513HC31114-5.mv</th>\n",
       "      <th>513PC31201.pv</th>\n",
       "      <th>513LC31202.pv</th>\n",
       "      <th>513FC31409.pv</th>\n",
       "      <th>513FC31114-5.pv</th>\n",
       "      <th>513TC31220.pv</th>\n",
       "      <th>MFR</th>\n",
       "    </tr>\n",
       "  </thead>\n",
       "  <tbody>\n",
       "    <tr>\n",
       "      <th>count</th>\n",
       "      <td>2486.000000</td>\n",
       "      <td>2560.000000</td>\n",
       "      <td>2484.000000</td>\n",
       "      <td>2484.000000</td>\n",
       "      <td>2484.00000</td>\n",
       "      <td>2486.000000</td>\n",
       "      <td>2484.000000</td>\n",
       "      <td>2564.000000</td>\n",
       "    </tr>\n",
       "    <tr>\n",
       "      <th>mean</th>\n",
       "      <td>25306.285729</td>\n",
       "      <td>0.178427</td>\n",
       "      <td>30.663706</td>\n",
       "      <td>77.651055</td>\n",
       "      <td>42525.14000</td>\n",
       "      <td>0.138530</td>\n",
       "      <td>80.144365</td>\n",
       "      <td>8.185218</td>\n",
       "    </tr>\n",
       "    <tr>\n",
       "      <th>std</th>\n",
       "      <td>1706.481672</td>\n",
       "      <td>0.077473</td>\n",
       "      <td>0.423345</td>\n",
       "      <td>0.919600</td>\n",
       "      <td>11331.86896</td>\n",
       "      <td>0.041869</td>\n",
       "      <td>0.823554</td>\n",
       "      <td>5.088696</td>\n",
       "    </tr>\n",
       "    <tr>\n",
       "      <th>min</th>\n",
       "      <td>16106.025000</td>\n",
       "      <td>0.000000</td>\n",
       "      <td>26.946344</td>\n",
       "      <td>74.575958</td>\n",
       "      <td>9610.46480</td>\n",
       "      <td>0.022162</td>\n",
       "      <td>77.760117</td>\n",
       "      <td>1.500000</td>\n",
       "    </tr>\n",
       "    <tr>\n",
       "      <th>25%</th>\n",
       "      <td>24361.632000</td>\n",
       "      <td>0.136000</td>\n",
       "      <td>30.446129</td>\n",
       "      <td>76.992151</td>\n",
       "      <td>34795.53500</td>\n",
       "      <td>0.113764</td>\n",
       "      <td>79.677458</td>\n",
       "      <td>3.700000</td>\n",
       "    </tr>\n",
       "    <tr>\n",
       "      <th>50%</th>\n",
       "      <td>25365.754500</td>\n",
       "      <td>0.173500</td>\n",
       "      <td>30.622631</td>\n",
       "      <td>77.494477</td>\n",
       "      <td>41550.56250</td>\n",
       "      <td>0.132986</td>\n",
       "      <td>80.044308</td>\n",
       "      <td>4.300000</td>\n",
       "    </tr>\n",
       "    <tr>\n",
       "      <th>75%</th>\n",
       "      <td>26398.452250</td>\n",
       "      <td>0.200000</td>\n",
       "      <td>30.925738</td>\n",
       "      <td>78.210867</td>\n",
       "      <td>50010.29500</td>\n",
       "      <td>0.156990</td>\n",
       "      <td>80.496296</td>\n",
       "      <td>12.900000</td>\n",
       "    </tr>\n",
       "    <tr>\n",
       "      <th>max</th>\n",
       "      <td>30083.688000</td>\n",
       "      <td>0.980000</td>\n",
       "      <td>32.674332</td>\n",
       "      <td>83.841675</td>\n",
       "      <td>106073.61000</td>\n",
       "      <td>0.677979</td>\n",
       "      <td>91.566544</td>\n",
       "      <td>38.000000</td>\n",
       "    </tr>\n",
       "  </tbody>\n",
       "</table>\n",
       "</div>"
      ],
      "text/plain": [
       "       513FC31103.pv  513HC31114-5.mv  513PC31201.pv  513LC31202.pv  \\\n",
       "count    2486.000000      2560.000000    2484.000000    2484.000000   \n",
       "mean    25306.285729         0.178427      30.663706      77.651055   \n",
       "std      1706.481672         0.077473       0.423345       0.919600   \n",
       "min     16106.025000         0.000000      26.946344      74.575958   \n",
       "25%     24361.632000         0.136000      30.446129      76.992151   \n",
       "50%     25365.754500         0.173500      30.622631      77.494477   \n",
       "75%     26398.452250         0.200000      30.925738      78.210867   \n",
       "max     30083.688000         0.980000      32.674332      83.841675   \n",
       "\n",
       "       513FC31409.pv  513FC31114-5.pv  513TC31220.pv          MFR  \n",
       "count     2484.00000      2486.000000    2484.000000  2564.000000  \n",
       "mean     42525.14000         0.138530      80.144365     8.185218  \n",
       "std      11331.86896         0.041869       0.823554     5.088696  \n",
       "min       9610.46480         0.022162      77.760117     1.500000  \n",
       "25%      34795.53500         0.113764      79.677458     3.700000  \n",
       "50%      41550.56250         0.132986      80.044308     4.300000  \n",
       "75%      50010.29500         0.156990      80.496296    12.900000  \n",
       "max     106073.61000         0.677979      91.566544    38.000000  "
      ]
     },
     "execution_count": 4,
     "metadata": {},
     "output_type": "execute_result"
    }
   ],
   "source": [
    "data.describe()"
   ]
  },
  {
   "cell_type": "markdown",
   "metadata": {},
   "source": [
    "## Preprocessing "
   ]
  },
  {
   "cell_type": "markdown",
   "metadata": {},
   "source": [
    "### Changing the column names"
   ]
  },
  {
   "cell_type": "code",
   "execution_count": 5,
   "metadata": {},
   "outputs": [
    {
     "data": {
      "text/plain": [
       "Index(['Unnamed: 0', '513FC31103.pv', '513HC31114-5.mv', '513PC31201.pv',\n",
       "       '513LC31202.pv', '513FC31409.pv', '513FC31114-5.pv', '513TC31220.pv',\n",
       "       'MFR'],\n",
       "      dtype='object')"
      ]
     },
     "execution_count": 5,
     "metadata": {},
     "output_type": "execute_result"
    }
   ],
   "source": [
    "data.columns"
   ]
  },
  {
   "cell_type": "code",
   "execution_count": 6,
   "metadata": {},
   "outputs": [],
   "source": [
    "#Dropping the unwanted column\n",
    "data.drop('Unnamed: 0',axis=1,inplace=True)"
   ]
  },
  {
   "cell_type": "code",
   "execution_count": 7,
   "metadata": {},
   "outputs": [
    {
     "data": {
      "text/html": [
       "<div>\n",
       "<style scoped>\n",
       "    .dataframe tbody tr th:only-of-type {\n",
       "        vertical-align: middle;\n",
       "    }\n",
       "\n",
       "    .dataframe tbody tr th {\n",
       "        vertical-align: top;\n",
       "    }\n",
       "\n",
       "    .dataframe thead th {\n",
       "        text-align: right;\n",
       "    }\n",
       "</style>\n",
       "<table border=\"1\" class=\"dataframe\">\n",
       "  <thead>\n",
       "    <tr style=\"text-align: right;\">\n",
       "      <th></th>\n",
       "      <th>513FC31103.pv</th>\n",
       "      <th>513HC31114-5.mv</th>\n",
       "      <th>513PC31201.pv</th>\n",
       "      <th>513LC31202.pv</th>\n",
       "      <th>513FC31409.pv</th>\n",
       "      <th>513FC31114-5.pv</th>\n",
       "      <th>513TC31220.pv</th>\n",
       "      <th>MFR</th>\n",
       "    </tr>\n",
       "  </thead>\n",
       "  <tbody>\n",
       "    <tr>\n",
       "      <th>0</th>\n",
       "      <td>24856.584</td>\n",
       "      <td>0.153</td>\n",
       "      <td>30.414835</td>\n",
       "      <td>79.657906</td>\n",
       "      <td>50850.578</td>\n",
       "      <td>0.163994</td>\n",
       "      <td>80.399605</td>\n",
       "      <td>3.4</td>\n",
       "    </tr>\n",
       "    <tr>\n",
       "      <th>1</th>\n",
       "      <td>25537.250</td>\n",
       "      <td>0.153</td>\n",
       "      <td>30.527121</td>\n",
       "      <td>78.532608</td>\n",
       "      <td>42229.813</td>\n",
       "      <td>0.129739</td>\n",
       "      <td>78.861328</td>\n",
       "      <td>3.2</td>\n",
       "    </tr>\n",
       "    <tr>\n",
       "      <th>2</th>\n",
       "      <td>25689.266</td>\n",
       "      <td>0.153</td>\n",
       "      <td>30.356180</td>\n",
       "      <td>78.842636</td>\n",
       "      <td>45335.852</td>\n",
       "      <td>0.150003</td>\n",
       "      <td>78.818115</td>\n",
       "      <td>3.2</td>\n",
       "    </tr>\n",
       "    <tr>\n",
       "      <th>3</th>\n",
       "      <td>25098.754</td>\n",
       "      <td>0.153</td>\n",
       "      <td>30.894308</td>\n",
       "      <td>79.173500</td>\n",
       "      <td>43077.016</td>\n",
       "      <td>0.151543</td>\n",
       "      <td>79.022720</td>\n",
       "      <td>3.1</td>\n",
       "    </tr>\n",
       "    <tr>\n",
       "      <th>4</th>\n",
       "      <td>24853.941</td>\n",
       "      <td>0.150</td>\n",
       "      <td>30.680647</td>\n",
       "      <td>78.677299</td>\n",
       "      <td>40404.387</td>\n",
       "      <td>0.122582</td>\n",
       "      <td>79.038483</td>\n",
       "      <td>3.3</td>\n",
       "    </tr>\n",
       "  </tbody>\n",
       "</table>\n",
       "</div>"
      ],
      "text/plain": [
       "   513FC31103.pv  513HC31114-5.mv  513PC31201.pv  513LC31202.pv  \\\n",
       "0      24856.584            0.153      30.414835      79.657906   \n",
       "1      25537.250            0.153      30.527121      78.532608   \n",
       "2      25689.266            0.153      30.356180      78.842636   \n",
       "3      25098.754            0.153      30.894308      79.173500   \n",
       "4      24853.941            0.150      30.680647      78.677299   \n",
       "\n",
       "   513FC31409.pv  513FC31114-5.pv  513TC31220.pv  MFR  \n",
       "0      50850.578         0.163994      80.399605  3.4  \n",
       "1      42229.813         0.129739      78.861328  3.2  \n",
       "2      45335.852         0.150003      78.818115  3.2  \n",
       "3      43077.016         0.151543      79.022720  3.1  \n",
       "4      40404.387         0.122582      79.038483  3.3  "
      ]
     },
     "execution_count": 7,
     "metadata": {},
     "output_type": "execute_result"
    }
   ],
   "source": [
    "data.head()"
   ]
  },
  {
   "cell_type": "code",
   "execution_count": 8,
   "metadata": {},
   "outputs": [],
   "source": [
    "#Changing the column names to understandable names\n",
    "\n",
    "col=['Propylene flow','Hydrogen ratio','Pressure controller','Level controller',\n",
    "     'Liquefied Recycle gas to R-310 dome top','Hydrogen Flow','Temperature controller','MFR']\n",
    "\n",
    "data.columns=col"
   ]
  },
  {
   "cell_type": "code",
   "execution_count": 9,
   "metadata": {},
   "outputs": [
    {
     "data": {
      "text/html": [
       "<div>\n",
       "<style scoped>\n",
       "    .dataframe tbody tr th:only-of-type {\n",
       "        vertical-align: middle;\n",
       "    }\n",
       "\n",
       "    .dataframe tbody tr th {\n",
       "        vertical-align: top;\n",
       "    }\n",
       "\n",
       "    .dataframe thead th {\n",
       "        text-align: right;\n",
       "    }\n",
       "</style>\n",
       "<table border=\"1\" class=\"dataframe\">\n",
       "  <thead>\n",
       "    <tr style=\"text-align: right;\">\n",
       "      <th></th>\n",
       "      <th>Propylene flow</th>\n",
       "      <th>Hydrogen ratio</th>\n",
       "      <th>Pressure controller</th>\n",
       "      <th>Level controller</th>\n",
       "      <th>Liquefied Recycle gas to R-310 dome top</th>\n",
       "      <th>Hydrogen Flow</th>\n",
       "      <th>Temperature controller</th>\n",
       "      <th>MFR</th>\n",
       "    </tr>\n",
       "  </thead>\n",
       "  <tbody>\n",
       "    <tr>\n",
       "      <th>0</th>\n",
       "      <td>24856.584</td>\n",
       "      <td>0.153</td>\n",
       "      <td>30.414835</td>\n",
       "      <td>79.657906</td>\n",
       "      <td>50850.578</td>\n",
       "      <td>0.163994</td>\n",
       "      <td>80.399605</td>\n",
       "      <td>3.4</td>\n",
       "    </tr>\n",
       "    <tr>\n",
       "      <th>1</th>\n",
       "      <td>25537.250</td>\n",
       "      <td>0.153</td>\n",
       "      <td>30.527121</td>\n",
       "      <td>78.532608</td>\n",
       "      <td>42229.813</td>\n",
       "      <td>0.129739</td>\n",
       "      <td>78.861328</td>\n",
       "      <td>3.2</td>\n",
       "    </tr>\n",
       "    <tr>\n",
       "      <th>2</th>\n",
       "      <td>25689.266</td>\n",
       "      <td>0.153</td>\n",
       "      <td>30.356180</td>\n",
       "      <td>78.842636</td>\n",
       "      <td>45335.852</td>\n",
       "      <td>0.150003</td>\n",
       "      <td>78.818115</td>\n",
       "      <td>3.2</td>\n",
       "    </tr>\n",
       "    <tr>\n",
       "      <th>3</th>\n",
       "      <td>25098.754</td>\n",
       "      <td>0.153</td>\n",
       "      <td>30.894308</td>\n",
       "      <td>79.173500</td>\n",
       "      <td>43077.016</td>\n",
       "      <td>0.151543</td>\n",
       "      <td>79.022720</td>\n",
       "      <td>3.1</td>\n",
       "    </tr>\n",
       "    <tr>\n",
       "      <th>4</th>\n",
       "      <td>24853.941</td>\n",
       "      <td>0.150</td>\n",
       "      <td>30.680647</td>\n",
       "      <td>78.677299</td>\n",
       "      <td>40404.387</td>\n",
       "      <td>0.122582</td>\n",
       "      <td>79.038483</td>\n",
       "      <td>3.3</td>\n",
       "    </tr>\n",
       "  </tbody>\n",
       "</table>\n",
       "</div>"
      ],
      "text/plain": [
       "   Propylene flow  Hydrogen ratio  Pressure controller  Level controller  \\\n",
       "0       24856.584           0.153            30.414835         79.657906   \n",
       "1       25537.250           0.153            30.527121         78.532608   \n",
       "2       25689.266           0.153            30.356180         78.842636   \n",
       "3       25098.754           0.153            30.894308         79.173500   \n",
       "4       24853.941           0.150            30.680647         78.677299   \n",
       "\n",
       "   Liquefied Recycle gas to R-310 dome top  Hydrogen Flow  \\\n",
       "0                                50850.578       0.163994   \n",
       "1                                42229.813       0.129739   \n",
       "2                                45335.852       0.150003   \n",
       "3                                43077.016       0.151543   \n",
       "4                                40404.387       0.122582   \n",
       "\n",
       "   Temperature controller  MFR  \n",
       "0               80.399605  3.4  \n",
       "1               78.861328  3.2  \n",
       "2               78.818115  3.2  \n",
       "3               79.022720  3.1  \n",
       "4               79.038483  3.3  "
      ]
     },
     "execution_count": 9,
     "metadata": {},
     "output_type": "execute_result"
    }
   ],
   "source": [
    "data.head()"
   ]
  },
  {
   "cell_type": "markdown",
   "metadata": {},
   "source": [
    "## Getting the column info"
   ]
  },
  {
   "cell_type": "code",
   "execution_count": 10,
   "metadata": {},
   "outputs": [
    {
     "name": "stdout",
     "output_type": "stream",
     "text": [
      "<class 'pandas.core.frame.DataFrame'>\n",
      "RangeIndex: 2564 entries, 0 to 2563\n",
      "Data columns (total 8 columns):\n",
      " #   Column                                   Non-Null Count  Dtype  \n",
      "---  ------                                   --------------  -----  \n",
      " 0   Propylene flow                           2486 non-null   float64\n",
      " 1   Hydrogen ratio                           2560 non-null   float64\n",
      " 2   Pressure controller                      2484 non-null   float64\n",
      " 3   Level controller                         2484 non-null   float64\n",
      " 4   Liquefied Recycle gas to R-310 dome top  2484 non-null   float64\n",
      " 5   Hydrogen Flow                            2486 non-null   float64\n",
      " 6   Temperature controller                   2484 non-null   float64\n",
      " 7   MFR                                      2564 non-null   float64\n",
      "dtypes: float64(8)\n",
      "memory usage: 160.4 KB\n"
     ]
    }
   ],
   "source": [
    "data.info()"
   ]
  },
  {
   "cell_type": "markdown",
   "metadata": {},
   "source": [
    "##### The total number of values are not equal which means there are some missing values. Let's see how many missing values are present in each column."
   ]
  },
  {
   "cell_type": "markdown",
   "metadata": {},
   "source": [
    "### Getting total null values in each column"
   ]
  },
  {
   "cell_type": "code",
   "execution_count": 11,
   "metadata": {},
   "outputs": [
    {
     "data": {
      "text/plain": [
       "Propylene flow                             78\n",
       "Hydrogen ratio                              4\n",
       "Pressure controller                        80\n",
       "Level controller                           80\n",
       "Liquefied Recycle gas to R-310 dome top    80\n",
       "Hydrogen Flow                              78\n",
       "Temperature controller                     80\n",
       "MFR                                         0\n",
       "dtype: int64"
      ]
     },
     "execution_count": 11,
     "metadata": {},
     "output_type": "execute_result"
    }
   ],
   "source": [
    "data.isna().sum()"
   ]
  },
  {
   "cell_type": "markdown",
   "metadata": {},
   "source": [
    "##### There are approximatly 78-80 null values present in all the independent variables, so we need to handle them in order to avoid misfit and hence giving wrong predictions."
   ]
  },
  {
   "cell_type": "markdown",
   "metadata": {},
   "source": [
    "### Dropping the null values"
   ]
  },
  {
   "cell_type": "code",
   "execution_count": 12,
   "metadata": {},
   "outputs": [],
   "source": [
    "data.dropna(inplace=True)"
   ]
  },
  {
   "cell_type": "markdown",
   "metadata": {},
   "source": [
    "### Checking the central tendency and dispersion of data"
   ]
  },
  {
   "cell_type": "code",
   "execution_count": 13,
   "metadata": {},
   "outputs": [
    {
     "data": {
      "text/html": [
       "<div>\n",
       "<style scoped>\n",
       "    .dataframe tbody tr th:only-of-type {\n",
       "        vertical-align: middle;\n",
       "    }\n",
       "\n",
       "    .dataframe tbody tr th {\n",
       "        vertical-align: top;\n",
       "    }\n",
       "\n",
       "    .dataframe thead th {\n",
       "        text-align: right;\n",
       "    }\n",
       "</style>\n",
       "<table border=\"1\" class=\"dataframe\">\n",
       "  <thead>\n",
       "    <tr style=\"text-align: right;\">\n",
       "      <th></th>\n",
       "      <th>Propylene flow</th>\n",
       "      <th>Hydrogen ratio</th>\n",
       "      <th>Pressure controller</th>\n",
       "      <th>Level controller</th>\n",
       "      <th>Liquefied Recycle gas to R-310 dome top</th>\n",
       "      <th>Hydrogen Flow</th>\n",
       "      <th>Temperature controller</th>\n",
       "      <th>MFR</th>\n",
       "    </tr>\n",
       "  </thead>\n",
       "  <tbody>\n",
       "    <tr>\n",
       "      <th>count</th>\n",
       "      <td>2484.000000</td>\n",
       "      <td>2484.000000</td>\n",
       "      <td>2484.000000</td>\n",
       "      <td>2484.000000</td>\n",
       "      <td>2484.00000</td>\n",
       "      <td>2484.000000</td>\n",
       "      <td>2484.000000</td>\n",
       "      <td>2484.000000</td>\n",
       "    </tr>\n",
       "    <tr>\n",
       "      <th>mean</th>\n",
       "      <td>25304.758777</td>\n",
       "      <td>0.183725</td>\n",
       "      <td>30.663706</td>\n",
       "      <td>77.651055</td>\n",
       "      <td>42525.14000</td>\n",
       "      <td>0.138522</td>\n",
       "      <td>80.144365</td>\n",
       "      <td>8.036594</td>\n",
       "    </tr>\n",
       "    <tr>\n",
       "      <th>std</th>\n",
       "      <td>1706.180093</td>\n",
       "      <td>0.072155</td>\n",
       "      <td>0.423345</td>\n",
       "      <td>0.919600</td>\n",
       "      <td>11331.86896</td>\n",
       "      <td>0.041885</td>\n",
       "      <td>0.823554</td>\n",
       "      <td>5.076463</td>\n",
       "    </tr>\n",
       "    <tr>\n",
       "      <th>min</th>\n",
       "      <td>16106.025000</td>\n",
       "      <td>0.000000</td>\n",
       "      <td>26.946344</td>\n",
       "      <td>74.575958</td>\n",
       "      <td>9610.46480</td>\n",
       "      <td>0.022162</td>\n",
       "      <td>77.760117</td>\n",
       "      <td>1.500000</td>\n",
       "    </tr>\n",
       "    <tr>\n",
       "      <th>25%</th>\n",
       "      <td>24361.490000</td>\n",
       "      <td>0.140000</td>\n",
       "      <td>30.446129</td>\n",
       "      <td>76.992151</td>\n",
       "      <td>34795.53500</td>\n",
       "      <td>0.113757</td>\n",
       "      <td>79.677458</td>\n",
       "      <td>3.700000</td>\n",
       "    </tr>\n",
       "    <tr>\n",
       "      <th>50%</th>\n",
       "      <td>25364.311500</td>\n",
       "      <td>0.175000</td>\n",
       "      <td>30.622631</td>\n",
       "      <td>77.494477</td>\n",
       "      <td>41550.56250</td>\n",
       "      <td>0.132971</td>\n",
       "      <td>80.044308</td>\n",
       "      <td>4.300000</td>\n",
       "    </tr>\n",
       "    <tr>\n",
       "      <th>75%</th>\n",
       "      <td>26397.439750</td>\n",
       "      <td>0.202000</td>\n",
       "      <td>30.925738</td>\n",
       "      <td>78.210867</td>\n",
       "      <td>50010.29500</td>\n",
       "      <td>0.157029</td>\n",
       "      <td>80.496296</td>\n",
       "      <td>12.800000</td>\n",
       "    </tr>\n",
       "    <tr>\n",
       "      <th>max</th>\n",
       "      <td>30083.688000</td>\n",
       "      <td>0.980000</td>\n",
       "      <td>32.674332</td>\n",
       "      <td>83.841675</td>\n",
       "      <td>106073.61000</td>\n",
       "      <td>0.677979</td>\n",
       "      <td>91.566544</td>\n",
       "      <td>38.000000</td>\n",
       "    </tr>\n",
       "  </tbody>\n",
       "</table>\n",
       "</div>"
      ],
      "text/plain": [
       "       Propylene flow  Hydrogen ratio  Pressure controller  Level controller  \\\n",
       "count     2484.000000     2484.000000          2484.000000       2484.000000   \n",
       "mean     25304.758777        0.183725            30.663706         77.651055   \n",
       "std       1706.180093        0.072155             0.423345          0.919600   \n",
       "min      16106.025000        0.000000            26.946344         74.575958   \n",
       "25%      24361.490000        0.140000            30.446129         76.992151   \n",
       "50%      25364.311500        0.175000            30.622631         77.494477   \n",
       "75%      26397.439750        0.202000            30.925738         78.210867   \n",
       "max      30083.688000        0.980000            32.674332         83.841675   \n",
       "\n",
       "       Liquefied Recycle gas to R-310 dome top  Hydrogen Flow  \\\n",
       "count                               2484.00000    2484.000000   \n",
       "mean                               42525.14000       0.138522   \n",
       "std                                11331.86896       0.041885   \n",
       "min                                 9610.46480       0.022162   \n",
       "25%                                34795.53500       0.113757   \n",
       "50%                                41550.56250       0.132971   \n",
       "75%                                50010.29500       0.157029   \n",
       "max                               106073.61000       0.677979   \n",
       "\n",
       "       Temperature controller          MFR  \n",
       "count             2484.000000  2484.000000  \n",
       "mean                80.144365     8.036594  \n",
       "std                  0.823554     5.076463  \n",
       "min                 77.760117     1.500000  \n",
       "25%                 79.677458     3.700000  \n",
       "50%                 80.044308     4.300000  \n",
       "75%                 80.496296    12.800000  \n",
       "max                 91.566544    38.000000  "
      ]
     },
     "execution_count": 13,
     "metadata": {},
     "output_type": "execute_result"
    }
   ],
   "source": [
    "data.describe()"
   ]
  },
  {
   "cell_type": "markdown",
   "metadata": {},
   "source": [
    "### Let's see if there is any co-relation between the independent variables"
   ]
  },
  {
   "cell_type": "code",
   "execution_count": 14,
   "metadata": {},
   "outputs": [
    {
     "data": {
      "image/png": "[encoded data removed]",
      "text/plain": [
       "<Figure size 720x720 with 2 Axes>"
      ]
     },
     "metadata": {
      "needs_background": "light"
     },
     "output_type": "display_data"
    }
   ],
   "source": [
    "C_mat = data.corr()\n",
    "fig = plt.figure(figsize = (10,10))\n",
    "\n",
    "sns.heatmap(C_mat, square = True)\n",
    "plt.show()"
   ]
  },
  {
   "cell_type": "markdown",
   "metadata": {},
   "source": [
    "There is not a direct co-relation between the features which means one feature is not completely dependent on another feature. So we can't remove any feature as of now.\n",
    "(Further the control strategies include controlling the melt flow rate (MFR) by measuring the temperature and pressure in the slurry reactor and by gas chromatography, determining the ratio of hydrogen to propylene, calculating the MFR from a correlation developed from polypropylene process results from these parameters and then adjusting the feed rate of a hydrogen stream into the reactor to cause the MFR to approach or be at a target MFR which will yield a desired product of polypropylene.)"
   ]
  },
  {
   "cell_type": "markdown",
   "metadata": {},
   "source": [
    "### Printing lowest and highest MFR readings to see the variation"
   ]
  },
  {
   "cell_type": "code",
   "execution_count": 15,
   "metadata": {},
   "outputs": [
    {
     "data": {
      "text/html": [
       "<div>\n",
       "<style scoped>\n",
       "    .dataframe tbody tr th:only-of-type {\n",
       "        vertical-align: middle;\n",
       "    }\n",
       "\n",
       "    .dataframe tbody tr th {\n",
       "        vertical-align: top;\n",
       "    }\n",
       "\n",
       "    .dataframe thead th {\n",
       "        text-align: right;\n",
       "    }\n",
       "</style>\n",
       "<table border=\"1\" class=\"dataframe\">\n",
       "  <thead>\n",
       "    <tr style=\"text-align: right;\">\n",
       "      <th></th>\n",
       "      <th>Propylene flow</th>\n",
       "      <th>Hydrogen ratio</th>\n",
       "      <th>Pressure controller</th>\n",
       "      <th>Level controller</th>\n",
       "      <th>Liquefied Recycle gas to R-310 dome top</th>\n",
       "      <th>Hydrogen Flow</th>\n",
       "      <th>Temperature controller</th>\n",
       "      <th>MFR</th>\n",
       "    </tr>\n",
       "  </thead>\n",
       "  <tbody>\n",
       "    <tr>\n",
       "      <th>count</th>\n",
       "      <td>2484.000000</td>\n",
       "      <td>2484.000000</td>\n",
       "      <td>2484.000000</td>\n",
       "      <td>2484.000000</td>\n",
       "      <td>2484.00000</td>\n",
       "      <td>2484.000000</td>\n",
       "      <td>2484.000000</td>\n",
       "      <td>2484.000000</td>\n",
       "    </tr>\n",
       "    <tr>\n",
       "      <th>mean</th>\n",
       "      <td>25304.758777</td>\n",
       "      <td>0.183725</td>\n",
       "      <td>30.663706</td>\n",
       "      <td>77.651055</td>\n",
       "      <td>42525.14000</td>\n",
       "      <td>0.138522</td>\n",
       "      <td>80.144365</td>\n",
       "      <td>8.036594</td>\n",
       "    </tr>\n",
       "    <tr>\n",
       "      <th>std</th>\n",
       "      <td>1706.180093</td>\n",
       "      <td>0.072155</td>\n",
       "      <td>0.423345</td>\n",
       "      <td>0.919600</td>\n",
       "      <td>11331.86896</td>\n",
       "      <td>0.041885</td>\n",
       "      <td>0.823554</td>\n",
       "      <td>5.076463</td>\n",
       "    </tr>\n",
       "    <tr>\n",
       "      <th>min</th>\n",
       "      <td>16106.025000</td>\n",
       "      <td>0.000000</td>\n",
       "      <td>26.946344</td>\n",
       "      <td>74.575958</td>\n",
       "      <td>9610.46480</td>\n",
       "      <td>0.022162</td>\n",
       "      <td>77.760117</td>\n",
       "      <td>1.500000</td>\n",
       "    </tr>\n",
       "    <tr>\n",
       "      <th>25%</th>\n",
       "      <td>24361.490000</td>\n",
       "      <td>0.140000</td>\n",
       "      <td>30.446129</td>\n",
       "      <td>76.992151</td>\n",
       "      <td>34795.53500</td>\n",
       "      <td>0.113757</td>\n",
       "      <td>79.677458</td>\n",
       "      <td>3.700000</td>\n",
       "    </tr>\n",
       "    <tr>\n",
       "      <th>50%</th>\n",
       "      <td>25364.311500</td>\n",
       "      <td>0.175000</td>\n",
       "      <td>30.622631</td>\n",
       "      <td>77.494477</td>\n",
       "      <td>41550.56250</td>\n",
       "      <td>0.132971</td>\n",
       "      <td>80.044308</td>\n",
       "      <td>4.300000</td>\n",
       "    </tr>\n",
       "    <tr>\n",
       "      <th>75%</th>\n",
       "      <td>26397.439750</td>\n",
       "      <td>0.202000</td>\n",
       "      <td>30.925738</td>\n",
       "      <td>78.210867</td>\n",
       "      <td>50010.29500</td>\n",
       "      <td>0.157029</td>\n",
       "      <td>80.496296</td>\n",
       "      <td>12.800000</td>\n",
       "    </tr>\n",
       "    <tr>\n",
       "      <th>max</th>\n",
       "      <td>30083.688000</td>\n",
       "      <td>0.980000</td>\n",
       "      <td>32.674332</td>\n",
       "      <td>83.841675</td>\n",
       "      <td>106073.61000</td>\n",
       "      <td>0.677979</td>\n",
       "      <td>91.566544</td>\n",
       "      <td>38.000000</td>\n",
       "    </tr>\n",
       "  </tbody>\n",
       "</table>\n",
       "</div>"
      ],
      "text/plain": [
       "       Propylene flow  Hydrogen ratio  Pressure controller  Level controller  \\\n",
       "count     2484.000000     2484.000000          2484.000000       2484.000000   \n",
       "mean     25304.758777        0.183725            30.663706         77.651055   \n",
       "std       1706.180093        0.072155             0.423345          0.919600   \n",
       "min      16106.025000        0.000000            26.946344         74.575958   \n",
       "25%      24361.490000        0.140000            30.446129         76.992151   \n",
       "50%      25364.311500        0.175000            30.622631         77.494477   \n",
       "75%      26397.439750        0.202000            30.925738         78.210867   \n",
       "max      30083.688000        0.980000            32.674332         83.841675   \n",
       "\n",
       "       Liquefied Recycle gas to R-310 dome top  Hydrogen Flow  \\\n",
       "count                               2484.00000    2484.000000   \n",
       "mean                               42525.14000       0.138522   \n",
       "std                                11331.86896       0.041885   \n",
       "min                                 9610.46480       0.022162   \n",
       "25%                                34795.53500       0.113757   \n",
       "50%                                41550.56250       0.132971   \n",
       "75%                                50010.29500       0.157029   \n",
       "max                               106073.61000       0.677979   \n",
       "\n",
       "       Temperature controller          MFR  \n",
       "count             2484.000000  2484.000000  \n",
       "mean                80.144365     8.036594  \n",
       "std                  0.823554     5.076463  \n",
       "min                 77.760117     1.500000  \n",
       "25%                 79.677458     3.700000  \n",
       "50%                 80.044308     4.300000  \n",
       "75%                 80.496296    12.800000  \n",
       "max                 91.566544    38.000000  "
      ]
     },
     "execution_count": 15,
     "metadata": {},
     "output_type": "execute_result"
    }
   ],
   "source": [
    "###Finding the min and max reading\n",
    "data.describe()"
   ]
  },
  {
   "cell_type": "code",
   "execution_count": 16,
   "metadata": {},
   "outputs": [
    {
     "data": {
      "text/html": [
       "<div>\n",
       "<style scoped>\n",
       "    .dataframe tbody tr th:only-of-type {\n",
       "        vertical-align: middle;\n",
       "    }\n",
       "\n",
       "    .dataframe tbody tr th {\n",
       "        vertical-align: top;\n",
       "    }\n",
       "\n",
       "    .dataframe thead th {\n",
       "        text-align: right;\n",
       "    }\n",
       "</style>\n",
       "<table border=\"1\" class=\"dataframe\">\n",
       "  <thead>\n",
       "    <tr style=\"text-align: right;\">\n",
       "      <th></th>\n",
       "      <th>Propylene flow</th>\n",
       "      <th>Hydrogen ratio</th>\n",
       "      <th>Pressure controller</th>\n",
       "      <th>Level controller</th>\n",
       "      <th>Liquefied Recycle gas to R-310 dome top</th>\n",
       "      <th>Hydrogen Flow</th>\n",
       "      <th>Temperature controller</th>\n",
       "      <th>MFR</th>\n",
       "    </tr>\n",
       "  </thead>\n",
       "  <tbody>\n",
       "    <tr>\n",
       "      <th>2158</th>\n",
       "      <td>21476.721</td>\n",
       "      <td>0.170</td>\n",
       "      <td>30.980965</td>\n",
       "      <td>77.445404</td>\n",
       "      <td>43265.105</td>\n",
       "      <td>0.102537</td>\n",
       "      <td>80.443382</td>\n",
       "      <td>1.5</td>\n",
       "    </tr>\n",
       "    <tr>\n",
       "      <th>2234</th>\n",
       "      <td>25052.857</td>\n",
       "      <td>0.134</td>\n",
       "      <td>30.444567</td>\n",
       "      <td>76.506531</td>\n",
       "      <td>43231.895</td>\n",
       "      <td>0.122489</td>\n",
       "      <td>80.067131</td>\n",
       "      <td>38.0</td>\n",
       "    </tr>\n",
       "  </tbody>\n",
       "</table>\n",
       "</div>"
      ],
      "text/plain": [
       "      Propylene flow  Hydrogen ratio  Pressure controller  Level controller  \\\n",
       "2158       21476.721           0.170            30.980965         77.445404   \n",
       "2234       25052.857           0.134            30.444567         76.506531   \n",
       "\n",
       "      Liquefied Recycle gas to R-310 dome top  Hydrogen Flow  \\\n",
       "2158                                43265.105       0.102537   \n",
       "2234                                43231.895       0.122489   \n",
       "\n",
       "      Temperature controller   MFR  \n",
       "2158               80.443382   1.5  \n",
       "2234               80.067131  38.0  "
      ]
     },
     "execution_count": 16,
     "metadata": {},
     "output_type": "execute_result"
    }
   ],
   "source": [
    "data[(data['MFR']==1.5) | (data['MFR']==38)]"
   ]
  },
  {
   "cell_type": "markdown",
   "metadata": {},
   "source": [
    "As it can be seen that even with not much difference between the two independent variables, the MFR has changed drastically.\n",
    "This means that the value of MFR is sensitive to all the factors."
   ]
  },
  {
   "cell_type": "markdown",
   "metadata": {},
   "source": [
    "##### The melt flow rate is an indirect measure of molecular weight. There are a few high outliers for certain adjustments in the features. With high melt flow rate corresponds to low molecular weight for a thermoplastic polymer."
   ]
  },
  {
   "cell_type": "markdown",
   "metadata": {},
   "source": [
    "### Let's check if there is a pattern in the outliers"
   ]
  },
  {
   "cell_type": "code",
   "execution_count": 17,
   "metadata": {},
   "outputs": [
    {
     "data": {
      "text/html": [
       "<div>\n",
       "<style scoped>\n",
       "    .dataframe tbody tr th:only-of-type {\n",
       "        vertical-align: middle;\n",
       "    }\n",
       "\n",
       "    .dataframe tbody tr th {\n",
       "        vertical-align: top;\n",
       "    }\n",
       "\n",
       "    .dataframe thead th {\n",
       "        text-align: right;\n",
       "    }\n",
       "</style>\n",
       "<table border=\"1\" class=\"dataframe\">\n",
       "  <thead>\n",
       "    <tr style=\"text-align: right;\">\n",
       "      <th></th>\n",
       "      <th>Propylene flow</th>\n",
       "      <th>Hydrogen ratio</th>\n",
       "      <th>Pressure controller</th>\n",
       "      <th>Level controller</th>\n",
       "      <th>Liquefied Recycle gas to R-310 dome top</th>\n",
       "      <th>Hydrogen Flow</th>\n",
       "      <th>Temperature controller</th>\n",
       "      <th>MFR</th>\n",
       "    </tr>\n",
       "  </thead>\n",
       "  <tbody>\n",
       "    <tr>\n",
       "      <th>1050</th>\n",
       "      <td>20012.021</td>\n",
       "      <td>0.250</td>\n",
       "      <td>32.348621</td>\n",
       "      <td>76.745026</td>\n",
       "      <td>42177.461</td>\n",
       "      <td>0.227957</td>\n",
       "      <td>82.186668</td>\n",
       "      <td>26.0</td>\n",
       "    </tr>\n",
       "    <tr>\n",
       "      <th>1557</th>\n",
       "      <td>24806.625</td>\n",
       "      <td>0.197</td>\n",
       "      <td>30.494255</td>\n",
       "      <td>76.783951</td>\n",
       "      <td>48521.250</td>\n",
       "      <td>0.207036</td>\n",
       "      <td>80.026550</td>\n",
       "      <td>35.0</td>\n",
       "    </tr>\n",
       "    <tr>\n",
       "      <th>2050</th>\n",
       "      <td>25745.020</td>\n",
       "      <td>0.093</td>\n",
       "      <td>30.512630</td>\n",
       "      <td>77.305084</td>\n",
       "      <td>37348.441</td>\n",
       "      <td>0.121632</td>\n",
       "      <td>80.238747</td>\n",
       "      <td>36.0</td>\n",
       "    </tr>\n",
       "    <tr>\n",
       "      <th>2073</th>\n",
       "      <td>25839.051</td>\n",
       "      <td>0.102</td>\n",
       "      <td>30.537281</td>\n",
       "      <td>77.341034</td>\n",
       "      <td>28488.680</td>\n",
       "      <td>0.127742</td>\n",
       "      <td>80.250961</td>\n",
       "      <td>37.0</td>\n",
       "    </tr>\n",
       "    <tr>\n",
       "      <th>2213</th>\n",
       "      <td>25682.488</td>\n",
       "      <td>0.128</td>\n",
       "      <td>30.321739</td>\n",
       "      <td>77.069580</td>\n",
       "      <td>40851.652</td>\n",
       "      <td>0.113010</td>\n",
       "      <td>80.103271</td>\n",
       "      <td>35.0</td>\n",
       "    </tr>\n",
       "    <tr>\n",
       "      <th>2234</th>\n",
       "      <td>25052.857</td>\n",
       "      <td>0.134</td>\n",
       "      <td>30.444567</td>\n",
       "      <td>76.506531</td>\n",
       "      <td>43231.895</td>\n",
       "      <td>0.122489</td>\n",
       "      <td>80.067131</td>\n",
       "      <td>38.0</td>\n",
       "    </tr>\n",
       "  </tbody>\n",
       "</table>\n",
       "</div>"
      ],
      "text/plain": [
       "      Propylene flow  Hydrogen ratio  Pressure controller  Level controller  \\\n",
       "1050       20012.021           0.250            32.348621         76.745026   \n",
       "1557       24806.625           0.197            30.494255         76.783951   \n",
       "2050       25745.020           0.093            30.512630         77.305084   \n",
       "2073       25839.051           0.102            30.537281         77.341034   \n",
       "2213       25682.488           0.128            30.321739         77.069580   \n",
       "2234       25052.857           0.134            30.444567         76.506531   \n",
       "\n",
       "      Liquefied Recycle gas to R-310 dome top  Hydrogen Flow  \\\n",
       "1050                                42177.461       0.227957   \n",
       "1557                                48521.250       0.207036   \n",
       "2050                                37348.441       0.121632   \n",
       "2073                                28488.680       0.127742   \n",
       "2213                                40851.652       0.113010   \n",
       "2234                                43231.895       0.122489   \n",
       "\n",
       "      Temperature controller   MFR  \n",
       "1050               82.186668  26.0  \n",
       "1557               80.026550  35.0  \n",
       "2050               80.238747  36.0  \n",
       "2073               80.250961  37.0  \n",
       "2213               80.103271  35.0  \n",
       "2234               80.067131  38.0  "
      ]
     },
     "execution_count": 17,
     "metadata": {},
     "output_type": "execute_result"
    }
   ],
   "source": [
    "#Printing the outliers\n",
    "data[data['MFR']>=25]"
   ]
  },
  {
   "cell_type": "markdown",
   "metadata": {},
   "source": [
    "### Splitting the Independent and Dependent Variables"
   ]
  },
  {
   "cell_type": "code",
   "execution_count": 18,
   "metadata": {},
   "outputs": [],
   "source": [
    "X = data.iloc[:,:-1]\n",
    "y = data['MFR']"
   ]
  },
  {
   "cell_type": "markdown",
   "metadata": {},
   "source": [
    "### Splitting the dataset into the Training set and Test set"
   ]
  },
  {
   "cell_type": "code",
   "execution_count": 19,
   "metadata": {},
   "outputs": [],
   "source": [
    "#Splitting into training and testing data\n",
    "from sklearn.model_selection import train_test_split\n",
    "X_train,X_test,y_train,y_test=train_test_split(X,y,test_size=0.20)"
   ]
  },
  {
   "cell_type": "markdown",
   "metadata": {},
   "source": [
    "### Standardization of independent variables"
   ]
  },
  {
   "cell_type": "code",
   "execution_count": 20,
   "metadata": {},
   "outputs": [],
   "source": [
    "#Performing standard scaling\n",
    "from sklearn.preprocessing import StandardScaler\n",
    "s=StandardScaler()\n",
    "\n",
    "X_train=s.fit_transform(X_train)\n",
    "X_test=s.transform(X_test)"
   ]
  },
  {
   "cell_type": "markdown",
   "metadata": {},
   "source": [
    "## Building a random forest model"
   ]
  },
  {
   "cell_type": "code",
   "execution_count": 21,
   "metadata": {},
   "outputs": [
    {
     "data": {
      "text/plain": [
       "RandomForestRegressor(bootstrap=True, ccp_alpha=0.0, criterion='mse',\n",
       "                      max_depth=None, max_features='auto', max_leaf_nodes=None,\n",
       "                      max_samples=None, min_impurity_decrease=0.0,\n",
       "                      min_impurity_split=None, min_samples_leaf=1,\n",
       "                      min_samples_split=2, min_weight_fraction_leaf=0.0,\n",
       "                      n_estimators=300, n_jobs=None, oob_score=False,\n",
       "                      random_state=0, verbose=0, warm_start=False)"
      ]
     },
     "execution_count": 21,
     "metadata": {},
     "output_type": "execute_result"
    }
   ],
   "source": [
    "from sklearn.ensemble import RandomForestRegressor\n",
    "\n",
    "rf=RandomForestRegressor(n_estimators=300,random_state=0)\n",
    "\n",
    "rf.fit(X_train,y_train)"
   ]
  },
  {
   "cell_type": "code",
   "execution_count": 22,
   "metadata": {},
   "outputs": [],
   "source": [
    "#Predicting values\n",
    "y_pred=rf.predict(X_test)"
   ]
  },
  {
   "cell_type": "markdown",
   "metadata": {},
   "source": [
    "### Evalauting the model"
   ]
  },
  {
   "cell_type": "code",
   "execution_count": 23,
   "metadata": {},
   "outputs": [
    {
     "name": "stdout",
     "output_type": "stream",
     "text": [
      "R-Sq value= 0.6967206754158419\n"
     ]
    }
   ],
   "source": [
    "from sklearn.metrics import r2_score\n",
    "print(\"R-Sq value= {}\".format(r2_score(y_test,y_pred)))"
   ]
  },
  {
   "cell_type": "markdown",
   "metadata": {},
   "source": [
    "The r2 score provides the proportion of variance in the dependent variable that is predictable from the independent variable."
   ]
  },
  {
   "cell_type": "markdown",
   "metadata": {},
   "source": [
    "## Building a Support vector model"
   ]
  },
  {
   "cell_type": "code",
   "execution_count": 24,
   "metadata": {},
   "outputs": [
    {
     "data": {
      "text/plain": [
       "SVR(C=1.0, cache_size=200, coef0=0.0, degree=3, epsilon=0.1, gamma='scale',\n",
       "    kernel='rbf', max_iter=-1, shrinking=True, tol=0.001, verbose=False)"
      ]
     },
     "execution_count": 24,
     "metadata": {},
     "output_type": "execute_result"
    }
   ],
   "source": [
    "from sklearn.svm import SVR\n",
    "\n",
    "svr=SVR(kernel='rbf')\n",
    "svr.fit(X_train,y_train)"
   ]
  },
  {
   "cell_type": "code",
   "execution_count": 25,
   "metadata": {},
   "outputs": [],
   "source": [
    "y_pred=svr.predict(X_test)"
   ]
  },
  {
   "cell_type": "code",
   "execution_count": 26,
   "metadata": {},
   "outputs": [
    {
     "name": "stdout",
     "output_type": "stream",
     "text": [
      "R-Sq value= 0.6493707924485644\n"
     ]
    }
   ],
   "source": [
    "from sklearn.metrics import r2_score\n",
    "print(\"R-Sq value= {}\".format(r2_score(y_test,y_pred)))"
   ]
  },
  {
   "cell_type": "markdown",
   "metadata": {},
   "source": [
    "### Evaluating model with cross validation"
   ]
  },
  {
   "cell_type": "code",
   "execution_count": 27,
   "metadata": {},
   "outputs": [],
   "source": [
    "from sklearn.model_selection import cross_val_score\n",
    "accuracies = cross_val_score(estimator = rf, X = X_train, y = y_train, cv = 10)"
   ]
  },
  {
   "cell_type": "code",
   "execution_count": 28,
   "metadata": {},
   "outputs": [
    {
     "name": "stdout",
     "output_type": "stream",
     "text": [
      "Mean accuracy: 0.6878466535325899\n",
      "Standard deviation: 0.10775132825378558\n"
     ]
    }
   ],
   "source": [
    "print(\"Mean accuracy: {}\".format(accuracies.mean()))\n",
    "print(\"Standard deviation: {}\".format(accuracies.std()))"
   ]
  },
  {
   "cell_type": "markdown",
   "metadata": {},
   "source": [
    "This shows that the accuracy of the model lies between 68-70%. With more training data sample we might be able to increase the accuracy of the model "
   ]
  }
 ],
 "metadata": {
  "kernelspec": {
   "display_name": "Python 3",
   "language": "python",
   "name": "python3"
  },
  "language_info": {
   "codemirror_mode": {
    "name": "ipython",
    "version": 3
   },
   "file_extension": ".py",
   "mimetype": "text/x-python",
   "name": "python",
   "nbconvert_exporter": "python",
   "pygments_lexer": "ipython3",
   "version": "3.6.5"
  }
 },
 "nbformat": 4,
 "nbformat_minor": 4
}
